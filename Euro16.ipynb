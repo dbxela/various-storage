{
 "cells": [
  {
   "cell_type": "code",
   "execution_count": 49,
   "metadata": {
    "collapsed": false
   },
   "outputs": [],
   "source": [
    "import pandas as pd\n",
    "\n",
    "vals = [-9,-6.001,-6,-5.001,-5,2,2.001,4,5,7,8,8.001,11,12,12.001,15,16,21,23,25,28,34,38,39]\n",
    "result_list = []\n",
    "for i,item in enumerate(vals):\n",
    "    for j,item in enumerate(vals):\n",
    "        for k,item in enumerate(vals):\n",
    "            for l,item in enumerate(vals):\n",
    "                for m,item in enumerate(vals):\n",
    "                    if  len(set([i,j,k,l,m])) == len([i,j,k,l,m]) and 190 < 5*vals[i]+4*vals[j]+3*vals[k]+2*vals[l]+vals[m] < 202:\n",
    "                        result_list.append([vals[i],vals[j],vals[k],vals[l],vals[m],5*vals[i]+4*vals[j]+3*vals[k]+2*vals[l]+vals[m]])"
   ]
  },
  {
   "cell_type": "code",
   "execution_count": 50,
   "metadata": {
    "collapsed": false
   },
   "outputs": [],
   "source": [
    "df = pd.DataFrame(result_list)\n"
   ]
  },
  {
   "cell_type": "code",
   "execution_count": 51,
   "metadata": {
    "collapsed": false
   },
   "outputs": [],
   "source": [
    "writer = pd.ExcelWriter('pandas_simple.xlsx', engine='xlsxwriter')\n",
    "df.to_excel(writer, sheet_name='Sheet1')\n",
    "writer.save()"
   ]
  }
 ],
 "metadata": {
  "kernelspec": {
   "display_name": "Python 3",
   "language": "python",
   "name": "python3"
  },
  "language_info": {
   "codemirror_mode": {
    "name": "ipython",
    "version": 3
   },
   "file_extension": ".py",
   "mimetype": "text/x-python",
   "name": "python",
   "nbconvert_exporter": "python",
   "pygments_lexer": "ipython3",
   "version": "3.5.1"
  }
 },
 "nbformat": 4,
 "nbformat_minor": 0
}

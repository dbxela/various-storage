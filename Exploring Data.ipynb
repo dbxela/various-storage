{
 "cells": [
  {
   "cell_type": "code",
   "execution_count": 35,
   "metadata": {
    "collapsed": false
   },
   "outputs": [],
   "source": [
    "import os\n",
    "os.chdir('c:\\\\users\\\\abowler\\\\documents\\\\data\\\\datascience\\\\codep3')"
   ]
  },
  {
   "cell_type": "code",
   "execution_count": 33,
   "metadata": {
    "collapsed": false
   },
   "outputs": [],
   "source": [
    "from collections import Counter, defaultdict\n",
    "from functools import partial, reduce\n",
    "from linear_algebra import shape, get_row, get_column, make_matrix, \\\n",
    "    vector_mean, vector_sum, dot, magnitude, vector_subtract, scalar_multiply\n",
    "from stats import correlation, standard_deviation, mean\n",
    "from probability import inverse_normal_cdf\n",
    "from gradient_descent import maximize_batch\n",
    "import math, random, csv\n",
    "import matplotlib.pyplot as plt\n",
    "import dateutil.parser"
   ]
  },
  {
   "cell_type": "code",
   "execution_count": 36,
   "metadata": {
    "collapsed": false
   },
   "outputs": [],
   "source": [
    "def bucketize(point, bucket_size):\n",
    "    return bucket_size * math.floor(point / bucket_size)\n",
    "    \n",
    "def make_histogram(points, bucket_size):\n",
    "    return Counter(bucketize(point, bucket_size) for point in points)\n",
    "\n",
    "def plot_histogram(points, bucket_size, title=\"\"):\n",
    "    histogram = make_histogram(points, bucket_size)\n",
    "    plt.bar(histogram.keys(), histogram.values(), width = bucket_size)\n",
    "    plt.title(title)\n",
    "    plt.show()   \n"
   ]
  },
  {
   "cell_type": "code",
   "execution_count": 38,
   "metadata": {
    "collapsed": false
   },
   "outputs": [],
   "source": [
    "random.seed(0)\n",
    "uniform = [200 * random.random() - 100 for _ in range(10000)]\n",
    "normal = [57 * inverse_normal_cdf(random.random()) for _ in range (10000)]\n",
    "\n",
    "plot_histogram(uniform, 10, \"Uniform Histogram\")\n",
    "plot_histogram(normal, 10, \"Normal Historgram\")"
   ]
  }
 ],
 "metadata": {
  "kernelspec": {
   "display_name": "Python 3",
   "language": "python",
   "name": "python3"
  },
  "language_info": {
   "codemirror_mode": {
    "name": "ipython",
    "version": 3
   },
   "file_extension": ".py",
   "mimetype": "text/x-python",
   "name": "python",
   "nbconvert_exporter": "python",
   "pygments_lexer": "ipython3",
   "version": "3.5.1"
  }
 },
 "nbformat": 4,
 "nbformat_minor": 0
}

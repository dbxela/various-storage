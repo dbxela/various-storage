{
 "cells": [
  {
   "cell_type": "code",
   "execution_count": null,
   "metadata": {
    "collapsed": false
   },
   "outputs": [],
   "source": [
    "# setup\n",
    "import teradata\n",
    "import pandas as pd\n",
    "import scipy as sp\n",
    "from scipy import sparse\n",
    "#from scipy import linalg\n",
    "import numpy as np\n",
    "import seaborn as sns\n",
    "import matplotlib.pyplot as plt\n",
    "udaExec = teradata.UdaExec ()\n",
    "np.set_printoptions(threshold=np.nan)\n",
    "%matplotlib inline\n",
    "%pylab inline\n",
    "pylab.rcParams['figure.figsize'] = (10, 6)"
   ]
  },
  {
   "cell_type": "code",
   "execution_count": null,
   "metadata": {
    "collapsed": false
   },
   "outputs": [],
   "source": [
    "# get the source data tables from Teradata\n",
    "with udaExec.connect(\"${dataSourceName}\") as session: \n",
    "    tran = pd.DataFrame(session.execute(\"\"\"SELECT id0-1, id1-1, Rate, GR FROM sandbox.adb_cltv_v where id1 is not null\"\"\").fetchall())\n",
    "    rev = pd.DataFrame(session.execute(\"\"\"SEL id0-1, 0, AVG(gr) AS gr, seg FROM  sandbox.adb_cltv_v GROUP BY 1,2,4 order by 1\"\"\").fetchall()) "
   ]
  },
  {
   "cell_type": "code",
   "execution_count": null,
   "metadata": {
    "collapsed": false
   },
   "outputs": [],
   "source": [
    "# build transition and payoff matrices\n",
    "tmat = sp.sparse.coo_matrix((tran[2],(tran[0],tran[1])),shape=(1800,1800),dtype=\"d\").todense()\n",
    "pmat = sp.sparse.coo_matrix((rev[2],(rev[0],rev[1])),shape=(1800,1),dtype=\"d\").todense()"
   ]
  },
  {
   "cell_type": "code",
   "execution_count": null,
   "metadata": {
    "collapsed": true
   },
   "outputs": [],
   "source": [
    "# period is monthly for WACC\n",
    "def monthly_wacc(x): return (1+x)**(1/12)\n",
    "\n",
    "# sum to infinity of Markov transition model\n",
    "def cltv_calc(weighted_av_cost_capital, transition_matrix, payoff_matrix): \n",
    "    return (\n",
    "            (np.identity(1800)-((monthly_wacc((wacc)))**-1)*transition_matrix).I\n",
    "           ).dot(payoff_matrix)\n",
    "\n",
    "# output array\n",
    "wacc = 0.135\n",
    "cltv_a = cltv_calc(wacc, tmat, pmat).A"
   ]
  },
  {
   "cell_type": "code",
   "execution_count": null,
   "metadata": {
    "collapsed": false
   },
   "outputs": [],
   "source": [
    "# rebuild frame and segment labels from the seg code in case I want to analyse more in here\n",
    "cltv = pd.DataFrame(cltv_a, columns=['cltv'])\n",
    "cltv['M0'] = pmat.A.astype(float64)\n",
    "cltv['fCLTV'] = (cltv['cltv'] - cltv['M0']).astype(float64)\n",
    "cltv['id0'] = cltv.index+1\n",
    "cltv['segment'] = rev[3]\n",
    "cltv['product'] = cltv['segment'].str[0]\n",
    "cltv['promo'] = cltv['segment'].str[1]\n",
    "cltv['recency'] = cltv['segment'].str[2:4].astype(int)\n",
    "cltv['frequency'] = cltv['segment'].str[4:6]\n",
    "cltv['monetary'] = cltv['segment'].str[6:8]\n",
    "lol = cltv.loc[:,['segment','fCLTV']].values.tolist()"
   ]
  },
  {
   "cell_type": "code",
   "execution_count": null,
   "metadata": {
    "collapsed": false
   },
   "outputs": [],
   "source": [
    "# upload the output cltv values back into Teradata\n",
    "with udaExec.connect(\"${dataSourceName}\") as session: \n",
    "    session.executemany(\"\"\"insert into sandbox.adbCLTV (seg_code,CLTV) VALUES (?,?) \"\"\",lol,batch=True)"
   ]
  },
  {
   "cell_type": "code",
   "execution_count": null,
   "metadata": {
    "collapsed": false,
    "scrolled": true
   },
   "outputs": [],
   "source": [
    "# various views\n",
    "#cltv.head(2)\n",
    "#cltv.groupby(['recency','product']).mean().cltv\n",
    "#pd.pivot_table(cltv, values='cltv', index=['recency'],columns=['product','monetary'],aggfunc=np.mean)\n",
    "plt.scatter(cltv['recency'],cltv['fCLTV'],marker=\"+\")"
   ]
  },
  {
   "cell_type": "code",
   "execution_count": null,
   "metadata": {
    "collapsed": false,
    "scrolled": true
   },
   "outputs": [],
   "source": [
    "cltv[cltv['fCLTV'] > 50]"
   ]
  }
 ],
 "metadata": {
  "kernelspec": {
   "display_name": "Python 3",
   "language": "python",
   "name": "python3"
  },
  "language_info": {
   "codemirror_mode": {
    "name": "ipython",
    "version": 3
   },
   "file_extension": ".py",
   "mimetype": "text/x-python",
   "name": "python",
   "nbconvert_exporter": "python",
   "pygments_lexer": "ipython3",
   "version": "3.5.1"
  }
 },
 "nbformat": 4,
 "nbformat_minor": 0
}

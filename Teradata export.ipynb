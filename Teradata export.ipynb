{
 "cells": [
  {
   "cell_type": "code",
   "execution_count": null,
   "metadata": {
    "collapsed": false
   },
   "outputs": [],
   "source": [
    "# setup\n",
    "import teradata\n",
    "import pandas as pd\n",
    "udaExec = teradata.UdaExec ()"
   ]
  },
  {
   "cell_type": "code",
   "execution_count": null,
   "metadata": {
    "collapsed": false
   },
   "outputs": [],
   "source": [
    "# get the source data table from Teradata\n",
    "with udaExec.connect(\"${dataSourceName}\") as session: \n",
    "    df = pd.DataFrame(session.execute(\"\"\"SELECT * FROM sandbox.qbert_user_cohort_final where email_code in ('A','B')\"\"\").fetchall())"
   ]
  },
  {
   "cell_type": "code",
   "execution_count": null,
   "metadata": {
    "collapsed": false
   },
   "outputs": [],
   "source": [
    "# add headers and the country id column\n",
    "df.columns = [\"user_id\",\"user_uuid\",\"recency\",\"frequency\",\"email_code\"]\n",
    "df[\"country_id\"] = 234"
   ]
  },
  {
   "cell_type": "code",
   "execution_count": null,
   "metadata": {
    "collapsed": false
   },
   "outputs": [],
   "source": [
    "# iterate through the segments saving the csv's \n",
    "segs = [\"A\",\"B\"]\n",
    "date = \"20160714\"\n",
    "for i,item in enumerate(segs):\n",
    "    df[df[\"email_code\"]==item].user_id.to_csv('test_userid_'+date+'_'+item+'.csv',index=False, header=True)\n",
    "    df[[\"user_id\",\"country_id\"]][df[\"email_code\"]==item].to_csv('test_useruuid_'+date+'_'+item+'.csv',index=False, header=False)    "
   ]
  },
  {
   "cell_type": "code",
   "execution_count": null,
   "metadata": {
    "collapsed": false
   },
   "outputs": [],
   "source": [
    "df"
   ]
  }
 ],
 "metadata": {
  "kernelspec": {
   "display_name": "Python 3",
   "language": "python",
   "name": "python3"
  },
  "language_info": {
   "codemirror_mode": {
    "name": "ipython",
    "version": 3
   },
   "file_extension": ".py",
   "mimetype": "text/x-python",
   "name": "python",
   "nbconvert_exporter": "python",
   "pygments_lexer": "ipython3",
   "version": "3.5.1"
  }
 },
 "nbformat": 4,
 "nbformat_minor": 0
}
